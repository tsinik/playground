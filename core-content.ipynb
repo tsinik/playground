{
  "nbformat": 4,
  "nbformat_minor": 0,
  "metadata": {
    "colab": {
      "provenance": [],
      "authorship_tag": "ABX9TyOqSvv9r4a8nLDqTk53/5Lq",
      "include_colab_link": true
    },
    "kernelspec": {
      "name": "python3",
      "display_name": "Python 3"
    },
    "language_info": {
      "name": "python"
    }
  },
  "cells": [
    {
      "cell_type": "markdown",
      "metadata": {
        "id": "view-in-github",
        "colab_type": "text"
      },
      "source": [
        "<a href=\"https://colab.research.google.com/github/tsinik/playground/blob/main/core-content.ipynb\" target=\"_parent\"><img src=\"https://colab.research.google.com/assets/colab-badge.svg\" alt=\"Open In Colab\"/></a>"
      ]
    },
    {
      "cell_type": "code",
      "execution_count": null,
      "metadata": {
        "id": "qz-eEeCWJwk-"
      },
      "outputs": [],
      "source": [
        "# \n",
        "# Developer: tsinik\n",
        "# Date: 7/5/2023\n",
        "#"
      ]
    },
    {
      "cell_type": "code",
      "source": [
        "# Set Timezone\n",
        "import os, time\n",
        "os.environ['TZ'] = 'Europe/Athens'\n",
        "time.tzset()"
      ],
      "metadata": {
        "id": "TrYUpjzoSUJw"
      },
      "execution_count": null,
      "outputs": []
    },
    {
      "cell_type": "code",
      "source": [
        "# Last Modified\n",
        "from datetime import datetime\n",
        "# current date and time\n",
        "now = datetime.now()\n",
        "r = now.strftime(\"%d/%m/%Y, %H:%M:%S\")\n",
        "# dd/mm/YY H:M:S format\n",
        "print(\"Last Run:\", r)"
      ],
      "metadata": {
        "colab": {
          "base_uri": "https://localhost:8080/"
        },
        "id": "rvyswVzHRWM7",
        "outputId": "8ef0f19e-85ae-427d-e74c-8b0943ed3018"
      },
      "execution_count": null,
      "outputs": [
        {
          "output_type": "stream",
          "name": "stdout",
          "text": [
            "Last Run: 14/05/2023, 11:38:09\n"
          ]
        }
      ]
    },
    {
      "cell_type": "code",
      "source": [
        "import os\n",
        "import sys\n",
        "# Mount GDrive\n",
        "from google.colab import drive\n",
        "drive.mount('/content/drive')"
      ],
      "metadata": {
        "colab": {
          "base_uri": "https://localhost:8080/"
        },
        "id": "qD4W5SxxLeCq",
        "outputId": "17820cb6-4610-453e-8a55-10db5c877828"
      },
      "execution_count": null,
      "outputs": [
        {
          "output_type": "stream",
          "name": "stdout",
          "text": [
            "Mounted at /content/drive\n"
          ]
        }
      ]
    },
    {
      "cell_type": "code",
      "source": [
        "#!mkdir '/content/drive/My Drive/Packages'"
      ],
      "metadata": {
        "id": "FKd0vMjJOr__"
      },
      "execution_count": null,
      "outputs": []
    },
    {
      "cell_type": "code",
      "source": [
        "package_path = '/content/packages'\n",
        "os.symlink('/content/drive/My Drive/Packages', package_path)\n",
        "sys.path.insert(0,package_path)"
      ],
      "metadata": {
        "id": "zLjiW-N3PSAM"
      },
      "execution_count": null,
      "outputs": []
    },
    {
      "cell_type": "code",
      "source": [
        "!pip install --target=$package_path virtualenv"
      ],
      "metadata": {
        "id": "u_JNfgMJXFBP",
        "colab": {
          "base_uri": "https://localhost:8080/"
        },
        "outputId": "1bb9ed12-1f09-4528-bef5-19059d050c51"
      },
      "execution_count": null,
      "outputs": [
        {
          "output_type": "stream",
          "name": "stdout",
          "text": [
            "Looking in indexes: https://pypi.org/simple, https://us-python.pkg.dev/colab-wheels/public/simple/\n",
            "Collecting virtualenv\n",
            "  Downloading virtualenv-20.23.0-py3-none-any.whl (3.3 MB)\n",
            "\u001b[2K     \u001b[90m━━━━━━━━━━━━━━━━━━━━━━━━━━━━━━━━━━━━━━━━\u001b[0m \u001b[32m3.3/3.3 MB\u001b[0m \u001b[31m33.7 MB/s\u001b[0m eta \u001b[36m0:00:00\u001b[0m\n",
            "\u001b[?25hCollecting distlib<1,>=0.3.6 (from virtualenv)\n",
            "  Downloading distlib-0.3.6-py2.py3-none-any.whl (468 kB)\n",
            "\u001b[2K     \u001b[90m━━━━━━━━━━━━━━━━━━━━━━━━━━━━━━━━━━━━━━\u001b[0m \u001b[32m468.5/468.5 kB\u001b[0m \u001b[31m28.0 MB/s\u001b[0m eta \u001b[36m0:00:00\u001b[0m\n",
            "\u001b[?25hCollecting filelock<4,>=3.11 (from virtualenv)\n",
            "  Downloading filelock-3.12.0-py3-none-any.whl (10 kB)\n",
            "Collecting platformdirs<4,>=3.2 (from virtualenv)\n",
            "  Downloading platformdirs-3.5.1-py3-none-any.whl (15 kB)\n",
            "Installing collected packages: distlib, platformdirs, filelock, virtualenv\n",
            "Successfully installed distlib-0.3.6 filelock-3.12.0 platformdirs-3.5.1 virtualenv-20.23.0\n",
            "\u001b[33mWARNING: Target directory /content/packages/distlib-0.3.6.dist-info already exists. Specify --upgrade to force replacement.\u001b[0m\u001b[33m\n",
            "\u001b[0m\u001b[33mWARNING: Target directory /content/packages/platformdirs already exists. Specify --upgrade to force replacement.\u001b[0m\u001b[33m\n",
            "\u001b[0m\u001b[33mWARNING: Target directory /content/packages/virtualenv already exists. Specify --upgrade to force replacement.\u001b[0m\u001b[33m\n",
            "\u001b[0m\u001b[33mWARNING: Target directory /content/packages/distlib already exists. Specify --upgrade to force replacement.\u001b[0m\u001b[33m\n",
            "\u001b[0m\u001b[33mWARNING: Target directory /content/packages/filelock already exists. Specify --upgrade to force replacement.\u001b[0m\u001b[33m\n",
            "\u001b[0m\u001b[33mWARNING: Target directory /content/packages/virtualenv-20.23.0.dist-info already exists. Specify --upgrade to force replacement.\u001b[0m\u001b[33m\n",
            "\u001b[0m\u001b[33mWARNING: Target directory /content/packages/platformdirs-3.5.1.dist-info already exists. Specify --upgrade to force replacement.\u001b[0m\u001b[33m\n",
            "\u001b[0m\u001b[33mWARNING: Target directory /content/packages/filelock-3.12.0.dist-info already exists. Specify --upgrade to force replacement.\u001b[0m\u001b[33m\n",
            "\u001b[0m\u001b[33mWARNING: Target directory /content/packages/bin already exists. Specify --upgrade to force replacement.\u001b[0m\u001b[33m\n",
            "\u001b[0m"
          ]
        }
      ]
    },
    {
      "cell_type": "code",
      "source": [
        "import virtualenv"
      ],
      "metadata": {
        "id": "_aFTVcqidCUy"
      },
      "execution_count": null,
      "outputs": []
    },
    {
      "cell_type": "code",
      "source": [
        "%cd '/content/drive/MyDrive/Colab Notebooks/hf-transformers-course'"
      ],
      "metadata": {
        "colab": {
          "base_uri": "https://localhost:8080/"
        },
        "id": "J8W9LFjLVlq_",
        "outputId": "43e8ba08-dc11-4349-e488-61df1c6b60ba"
      },
      "execution_count": null,
      "outputs": [
        {
          "output_type": "stream",
          "name": "stdout",
          "text": [
            "/content/drive/MyDrive/Colab Notebooks/hf-transformers-course\n"
          ]
        }
      ]
    },
    {
      "cell_type": "code",
      "source": [
        "# os.chdir('/content/drive/My Drive/Colab Notebooks')\n",
        "# !git clone https://github.com/user-name/repository-name.git\n",
        "# sys.path.append('/content/drive/My Drive/Colab Notebooks/repository-name')"
      ],
      "metadata": {
        "id": "qI5cef8pZAAp"
      },
      "execution_count": null,
      "outputs": []
    },
    {
      "cell_type": "markdown",
      "source": [
        "Add Virtual Environment to Jupyter Notebook\n",
        "- activate your virtual environment\n",
        "- pip install ipykernel\n",
        "- python -m ipykernel install --user --name=<VIRTUALENV>\n",
        "- cd into the env folder and inspect the configuration file kernel.json\n",
        "\n",
        "Remove Virtual Environment from Jupyter Notebook\n",
        "- jupyter kernelspec list\n",
        "- jupyter kernelspec uninstall <VIRTUALENV>"
      ],
      "metadata": {
        "id": "UFKRjFIEbQPQ"
      }
    }
  ]
}